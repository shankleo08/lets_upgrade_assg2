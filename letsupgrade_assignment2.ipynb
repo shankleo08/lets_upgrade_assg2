{
  "nbformat": 4,
  "nbformat_minor": 0,
  "metadata": {
    "colab": {
      "name": "letsupgrade_assignment2",
      "provenance": [],
      "collapsed_sections": []
    },
    "kernelspec": {
      "name": "python3",
      "display_name": "Python 3"
    }
  },
  "cells": [
    {
      "cell_type": "markdown",
      "metadata": {
        "id": "GgVAUzLvm7mq"
      },
      "source": [
        "# **Assignment 2**"
      ]
    },
    {
      "cell_type": "markdown",
      "metadata": {
        "id": "1GKtckX5nBjW"
      },
      "source": [
        "**Question 1**"
      ]
    },
    {
      "cell_type": "code",
      "metadata": {
        "id": "d7DVWUDRmxN_",
        "outputId": "c7ce3d9d-b9a5-47cf-fb98-c2347169c558",
        "colab": {
          "base_uri": "https://localhost:8080/"
        }
      },
      "source": [
        "li=[] #empty list\n",
        "for i in range(0,10):\n",
        "  inp=int(input(\"enter input(10 numbers):3\"))\n",
        "  if (inp%2==0):\n",
        "    li.append(inp)\n",
        "print(li)\n"
      ],
      "execution_count": null,
      "outputs": [
        {
          "output_type": "stream",
          "text": [
            "enter input(10 numbers):1\n",
            "enter input(10 numbers):2\n",
            "enter input(10 numbers):3\n",
            "enter input(10 numbers):4\n",
            "enter input(10 numbers):5\n",
            "enter input(10 numbers):6\n",
            "enter input(10 numbers):7\n",
            "enter input(10 numbers):8\n",
            "enter input(10 numbers):9\n",
            "enter input(10 numbers):10\n",
            "[2, 4, 6, 8, 10]\n"
          ],
          "name": "stdout"
        }
      ]
    },
    {
      "cell_type": "markdown",
      "metadata": {
        "id": "xZOITSJ-q7CT"
      },
      "source": [
        "**Question 2**"
      ]
    },
    {
      "cell_type": "markdown",
      "metadata": {
        "id": "PhjUpFMkOR-o"
      },
      "source": [
        "LIST COMPREHENSION: These are lists which are basically declared in one single statement with iteration. \n",
        "List comprehension contains both the expression and the for loop for iteration which is executed for each element.\n",
        "For example-"
      ]
    },
    {
      "cell_type": "code",
      "metadata": {
        "id": "dwJbrpyFq6VW",
        "outputId": "71906811-881e-4a05-8a79-2438f6937e59",
        "colab": {
          "base_uri": "https://localhost:8080/"
        }
      },
      "source": [
        "x=[name for name in 'shashank']\n",
        "print(x)"
      ],
      "execution_count": 8,
      "outputs": [
        {
          "output_type": "stream",
          "text": [
            "['s', 'h', 'a', 's', 'h', 'a', 'n', 'k']\n"
          ],
          "name": "stdout"
        }
      ]
    },
    {
      "cell_type": "markdown",
      "metadata": {
        "id": "To2y4xgcrFWu"
      },
      "source": [
        "**Question 3**"
      ]
    },
    {
      "cell_type": "code",
      "metadata": {
        "id": "HSpHN6oNrH0r",
        "outputId": "894bed21-2338-473a-ddfc-5bfdf760956c",
        "colab": {
          "base_uri": "https://localhost:8080/"
        }
      },
      "source": [
        "\n",
        "n=int(input())\n",
        "dict1=dict()\n",
        "for i in range(1,n+1):\n",
        "  dict1[i]=i*i\n",
        "  \n",
        "print(dict1)"
      ],
      "execution_count": null,
      "outputs": [
        {
          "output_type": "stream",
          "text": [
            "8\n",
            "{1: 1, 2: 4, 3: 9, 4: 16, 5: 25, 6: 36, 7: 49, 8: 64}\n"
          ],
          "name": "stdout"
        }
      ]
    },
    {
      "cell_type": "markdown",
      "metadata": {
        "id": "yfQxk-hcvqLA"
      },
      "source": [
        "**Question 4**"
      ]
    },
    {
      "cell_type": "code",
      "metadata": {
        "id": "rbDui0LwK11v",
        "outputId": "220a0839-f818-42db-f933-adc2c2495df8",
        "colab": {
          "base_uri": "https://localhost:8080/"
        }
      },
      "source": [
        "import math\n",
        "\n",
        "x=0\n",
        "y=0\n",
        "n = int(input())\n",
        "\n",
        "# for loop\n",
        "for i in range (n):\n",
        "    move =  input().split(\" \")      \n",
        "    \n",
        "    if move[0] == \"up\":\n",
        "      y+= int(move[1])\n",
        "              \n",
        "    elif move[0] == \"down\":\n",
        "      y-= int(move[1])\n",
        "   \n",
        "    elif move[0] == \"left\":\n",
        "      x-= int(move[1])\n",
        "         \n",
        "    elif move[0] == \"right\":\n",
        "      x+= int(move[1])\n",
        "\n",
        "dist = round(math.sqrt(x**2 + y**2))\n",
        "print(dist)"
      ],
      "execution_count": 5,
      "outputs": [
        {
          "output_type": "stream",
          "text": [
            "4\n",
            "up 5\n",
            "down 3\n",
            "left 3\n",
            "right 2\n",
            "2\n"
          ],
          "name": "stdout"
        }
      ]
    }
  ]
}